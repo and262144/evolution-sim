{
 "cells": [
  {
   "cell_type": "markdown",
   "id": "bf995991-edac-48df-a726-48f4ef3d5a4a",
   "metadata": {},
   "source": [
    "# Basics"
   ]
  },
  {
   "cell_type": "markdown",
   "id": "e702f30a-2b45-4755-ace1-3e5d726a65b0",
   "metadata": {},
   "source": [
    "\n",
    "## 🧮 Variables & Data Types\n",
    "Numbers: int, float, complex\n",
    "\n",
    "Strings: 'hello', \"world\", f-strings\n",
    "\n",
    "Booleans: True, False\n",
    "\n",
    "None type: None\n",
    "\n",
    "Type conversion (int(), str(), float())\n",
    "\n"
   ]
  },
  {
   "cell_type": "markdown",
   "id": "de62857f-37e6-465e-b3a3-0dd8ccef802a",
   "metadata": {},
   "source": [
    "## 📦 Collections / Data Structures\n",
    "Lists: [], indexing, slicing\n",
    "\n",
    "Tuples: (), immutability\n",
    "\n",
    "Dictionaries: {key: value}\n",
    "\n",
    "Sets: {} and set(), unique elements"
   ]
  },
  {
   "cell_type": "markdown",
   "id": "2e53ea81-e23c-4bfe-b42c-14ced3477775",
   "metadata": {},
   "source": [
    "## 🔁 Control Flow\n",
    "if, elif, else\n",
    "\n",
    "Comparison operators (==, !=, >, <, etc.)\n",
    "\n",
    "Logical operators (and, or, not)\n",
    "\n"
   ]
  },
  {
   "cell_type": "markdown",
   "id": "aa0272d3-2f16-401c-b21c-0e5405cd3f31",
   "metadata": {},
   "source": [
    "## 🔂 Loops\n",
    "for loops (including range())\n",
    "\n",
    "while loops\n",
    "\n",
    "Loop control: break, continue, pass\n",
    "\n"
   ]
  },
  {
   "cell_type": "markdown",
   "id": "62fd6d12-7ded-4558-8cda-4c78038ae417",
   "metadata": {},
   "source": [
    "## 🧮 Basic Functions\n",
    "def keyword\n",
    "\n",
    "Parameters and return values\n",
    "\n",
    "Built-in functions (len(), type(), etc.)\n",
    "\n",
    "Scope: local vs global variables\n",
    "\n"
   ]
  },
  {
   "cell_type": "markdown",
   "id": "f579ecfb-b3c0-4f55-91a2-51c8fbee651a",
   "metadata": {},
   "source": [
    "## 🧾 Input & Output\n",
    "print() function\n",
    "\n",
    "input() for user input\n",
    "\n",
    "String formatting (f-strings, format())"
   ]
  },
  {
   "cell_type": "markdown",
   "id": "05e37d0f-4d65-425d-95b4-50888c12bfdb",
   "metadata": {},
   "source": [
    "## 📄 Working with Files\n",
    "Opening and closing files (open(), with)\n",
    "\n",
    "Reading and writing files\n",
    "\n",
    "Modes: 'r', 'w', 'a', 'rb', etc.\n",
    "\n"
   ]
  },
  {
   "cell_type": "markdown",
   "id": "860b4479-5d11-4315-b060-0fbe9f4c382e",
   "metadata": {},
   "source": [
    "## 🧱 Basic Modules\n",
    "import statements\n",
    "\n",
    "Using built-in modules (math, random, os, etc.)"
   ]
  },
  {
   "cell_type": "markdown",
   "id": "0579b18e-3cd7-4010-b514-786af3fe85a8",
   "metadata": {},
   "source": [
    "## 🐞 Basic Error Handling\n",
    "try, except blocks\n",
    "\n",
    "Common exceptions (ZeroDivisionError, ValueError, etc.)"
   ]
  },
  {
   "cell_type": "markdown",
   "id": "dc807480-2e99-4092-8676-5f916cb1e44f",
   "metadata": {},
   "source": [
    "# Intermediate"
   ]
  },
  {
   "cell_type": "markdown",
   "id": "ae50b5c2-4281-460f-8f5c-5826d7837977",
   "metadata": {},
   "source": [
    "## 🌱 Core Language Features\n",
    "- Comprehensions (List, Dict, Set comprehensions)\n",
    "- Generators & `yield`\n",
    "- Iterators and custom iterable classes (`__iter__`, `__next__`)\n",
    "- Context Managers (`with` statement, `__enter__`, `__exit__`)\n",
    "- Decorators (functions and classes)\n",
    "- Closures and inner functions\n",
    "- Lambda functions\n",
    "- The `*args` and `**kwargs` syntax\n",
    "- Error handling with `try/except/finally`, custom exceptions"
   ]
  },
  {
   "cell_type": "markdown",
   "id": "87c33cf4-677a-4857-b1b0-83adc4c0342a",
   "metadata": {},
   "source": [
    "## 🧰 Object-Oriented Programming (OOP)\n",
    "- Classes and Objects\n",
    "- Inheritance and `super()`\n",
    "- Method Resolution Order (MRO)\n",
    "- Class methods vs static methods vs instance methods\n",
    "- Operator overloading (`__add__`, `__eq__`, etc.)\n",
    "- Data classes (`@dataclass` from `dataclasses` module)\n",
    "- Abstract Base Classes (`abc` module)\n"
   ]
  },
  {
   "cell_type": "markdown",
   "id": "3f32d754-cba7-4a50-8f00-b818417b6ff6",
   "metadata": {},
   "source": [
    "## 🧠 Advanced Built-ins & Functional Programming\n",
    "- `map()`, `filter()`, `reduce()`, and `zip()`\n",
    "- `enumerate()`, `any()`, `all()`, `sorted()`, `reversed()`\n",
    "- Using `functools` (`lru_cache`, `partial`, etc.)\n",
    "- `itertools` (`product`, `permutations`, `combinations`, `groupby`)\n",
    "- Recursion and tail call optimization"
   ]
  },
  {
   "cell_type": "markdown",
   "id": "097ffb14-a5f2-4d55-8338-3253c5881b9e",
   "metadata": {},
   "source": [
    "## 🧪 Testing & Debugging\n",
    "- `unittest`, `pytest` basics\n",
    "- Writing testable code and assertions\n",
    "- Mocking and patching (`unittest.mock`)\n",
    "- Debugging with `pdb` or IDE tools\n",
    "- Profiling with `cProfile`\n"
   ]
  },
  {
   "cell_type": "markdown",
   "id": "f2911d83-b13c-4b80-9d29-9b7728458481",
   "metadata": {},
   "source": [
    "## 📦 Modules & Packaging\n",
    "- Creating and using your own modules\n",
    "- `__init__.py`, `__main__`\n",
    "- Virtual environments (`venv`, `pipenv`, `poetry`)\n",
    "- Dependency management\n",
    "- Packaging a Python library (`setup.py`, `pyproject.toml`)"
   ]
  },
  {
   "cell_type": "markdown",
   "id": "aa1e3887-d861-4b98-a044-90fa1ca2f1bb",
   "metadata": {},
   "source": [
    "## 🌐 File & Data Handling\n",
    "- Working with files (`open`, `with`, `read`, `write`)\n",
    "- Reading/writing JSON, CSV, XML\n",
    "- Regular Expressions (`re` module)\n",
    "- Working with APIs using `requests`\n",
    "- Basic database operations with `sqlite3` or `SQLAlchemy`\n"
   ]
  },
  {
   "cell_type": "markdown",
   "id": "1c9c6b99-9237-4caa-81ae-30b73d660c78",
   "metadata": {},
   "source": [
    "## 🧵 Concurrency & Parallelism\n",
    "- Multithreading (`threading`)\n",
    "- Multiprocessing (`multiprocessing`)\n",
    "- AsyncIO (`async`, `await`, `asyncio`)\n",
    "- Event loops and coroutines"
   ]
  },
  {
   "cell_type": "markdown",
   "id": "26ed18ad-8739-4b43-a77e-da3d1d022cb2",
   "metadata": {},
   "source": [
    "## 📊 Data Handling & Visualization\n",
    "- Numpy basics\n",
    "- Pandas: Series and DataFrames\n",
    "- Matplotlib/Seaborn for visualization\n"
   ]
  },
  {
   "cell_type": "markdown",
   "id": "f85cef5a-cb16-40cd-9717-a5ec8d2c23be",
   "metadata": {},
   "source": [
    "## 🧱 Other Useful Concepts\n",
    "- Logging (`logging` module)\n",
    "- Time/date handling (`datetime`, `time`, `calendar`)\n",
    "- Environment variables (`os.environ`)\n",
    "- Filesystem paths with `pathlib`\n",
    "- Type hints and static typing (`typing`, `mypy`)\n"
   ]
  }
 ],
 "metadata": {
  "kernelspec": {
   "display_name": "Python 3 (ipykernel)",
   "language": "python",
   "name": "python3"
  },
  "language_info": {
   "codemirror_mode": {
    "name": "ipython",
    "version": 3
   },
   "file_extension": ".py",
   "mimetype": "text/x-python",
   "name": "python",
   "nbconvert_exporter": "python",
   "pygments_lexer": "ipython3",
   "version": "3.13.2"
  }
 },
 "nbformat": 4,
 "nbformat_minor": 5
}
