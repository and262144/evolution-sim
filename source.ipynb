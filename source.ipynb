{
 "cells": [
  {
   "cell_type": "markdown",
   "id": "4520f140-a7b7-4bd8-b028-e2962f9ed363",
   "metadata": {},
   "source": [
    "- Figure out the features we need to define\n",
    "- Figure out the details of the value system for the features (try to represent alleles)\n",
    "\n",
    "- Figure out the main life loop \n",
    "\n",
    "- Figure out how to store the data\n",
    "- Figure out the visulization\n",
    "  \n"
   ]
  },
  {
   "cell_type": "code",
   "execution_count": null,
   "id": "add83b2c-11e9-4536-89d2-5526f862867a",
   "metadata": {},
   "outputs": [],
   "source": [
    "- Figure \n"
   ]
  }
 ],
 "metadata": {
  "kernelspec": {
   "display_name": "scipy-venv",
   "language": "python",
   "name": "scipy-venv"
  },
  "language_info": {
   "codemirror_mode": {
    "name": "ipython",
    "version": 3
   },
   "file_extension": ".py",
   "mimetype": "text/x-python",
   "name": "python",
   "nbconvert_exporter": "python",
   "pygments_lexer": "ipython3",
   "version": "3.13.2"
  }
 },
 "nbformat": 4,
 "nbformat_minor": 5
}
